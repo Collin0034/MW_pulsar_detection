{
  "nbformat": 4,
  "nbformat_minor": 0,
  "metadata": {
    "kernelspec": {
      "name": "python3",
      "display_name": "Python 3"
    },
    "colab": {
      "name": "Multiple circles in Grayscale.ipynb",
      "provenance": [],
      "include_colab_link": true
    },
    "language_info": {
      "name": "python"
    }
  },
  "cells": [
    {
      "cell_type": "markdown",
      "metadata": {
        "id": "view-in-github",
        "colab_type": "text"
      },
      "source": [
        "<a href=\"https://colab.research.google.com/github/Collin0034/MW_pulsar_detection/blob/main/Multiple_circles_in_Grayscale.ipynb\" target=\"_parent\"><img src=\"https://colab.research.google.com/assets/colab-badge.svg\" alt=\"Open In Colab\"/></a>"
      ]
    },
    {
      "cell_type": "code",
      "metadata": {
        "ExecuteTime": {
          "end_time": "2016-07-04T17:28:39.034000",
          "start_time": "2016-07-04T17:28:38.325000"
        },
        "collapsed": true,
        "id": "mtUEx9ChxLps"
      },
      "source": [
        "import numpy as np\n",
        "import matplotlib.pyplot as plt\n",
        "import matplotlib\n",
        "import cv2\n",
        "import tensorflow as tf\n",
        "from keras.models import Sequential\n",
        "from keras.layers import Dense, Activation, Dropout, Convolution2D, MaxPooling2D, Flatten\n",
        "\n",
        "%matplotlib inline"
      ],
      "execution_count": null,
      "outputs": []
    },
    {
      "cell_type": "code",
      "metadata": {
        "id": "FFfn4Vyywxcz",
        "colab": {
          "base_uri": "https://localhost:8080/",
          "height": 307
        },
        "outputId": "2b70bfe9-f25b-41ad-8199-1b83c0977ea1"
      },
      "source": [
        "# Activate GPU for this, otherwise the convnet will take forever to train\n",
        "device_name = tf.test.gpu_device_name()\n",
        "if device_name != '/device:GPU:0':\n",
        "    print(\n",
        "        '\\n\\nThis error most likely means that this notebook is not '\n",
        "        'configured to use a GPU.  Change this in Notebook Settings via the '\n",
        "        'command palette (cmd/ctrl-shift-P) or the Edit menu.\\n\\n')\n",
        "    raise SystemError('GPU device not found')\n"
      ],
      "execution_count": null,
      "outputs": [
        {
          "output_type": "stream",
          "name": "stdout",
          "text": [
            "\n",
            "\n",
            "This error most likely means that this notebook is not configured to use a GPU.  Change this in Notebook Settings via the command palette (cmd/ctrl-shift-P) or the Edit menu.\n",
            "\n",
            "\n"
          ]
        },
        {
          "output_type": "error",
          "ename": "SystemError",
          "evalue": "ignored",
          "traceback": [
            "\u001b[0;31m---------------------------------------------------------------------------\u001b[0m",
            "\u001b[0;31mSystemError\u001b[0m                               Traceback (most recent call last)",
            "\u001b[0;32m<ipython-input-2-5d4eb66e246f>\u001b[0m in \u001b[0;36m<module>\u001b[0;34m()\u001b[0m\n\u001b[1;32m      6\u001b[0m         \u001b[0;34m'configured to use a GPU.  Change this in Notebook Settings via the '\u001b[0m\u001b[0;34m\u001b[0m\u001b[0;34m\u001b[0m\u001b[0m\n\u001b[1;32m      7\u001b[0m         'command palette (cmd/ctrl-shift-P) or the Edit menu.\\n\\n')\n\u001b[0;32m----> 8\u001b[0;31m     \u001b[0;32mraise\u001b[0m \u001b[0mSystemError\u001b[0m\u001b[0;34m(\u001b[0m\u001b[0;34m'GPU device not found'\u001b[0m\u001b[0;34m)\u001b[0m\u001b[0;34m\u001b[0m\u001b[0;34m\u001b[0m\u001b[0m\n\u001b[0m",
            "\u001b[0;31mSystemError\u001b[0m: GPU device not found"
          ]
        }
      ]
    },
    {
      "cell_type": "code",
      "metadata": {
        "id": "wkwSJSdmCyOk",
        "colab": {
          "base_uri": "https://localhost:8080/"
        },
        "outputId": "50e855f1-89bd-49eb-d76b-bcf6d6d0b268"
      },
      "source": [
        "'''\n",
        "Few things to keep in mind in order to increase IOU:\n",
        "\n",
        "Increase num_imgs\n",
        "Increase epochs\n",
        "Decrease img_size\n",
        "Decrease the number of available shapes to chose from\n",
        "Decrease the number of colors that are available\n",
        "'''\n",
        "\n",
        "\n",
        "num_imgs = 5\n",
        "\n",
        "img_size = 32\n",
        "min_object_size = 4\n",
        "max_object_size = 16\n",
        "num_objects = 2\n",
        "\n",
        "boxes = np.zeros((num_imgs, num_objects, 4)) #use this to later to put a square around objects so we can keep track of object boundaries\n",
        "imgs = np.zeros((num_imgs, img_size, img_size, 3))  # format: BGR\n",
        "\n",
        "colors = np.zeros((num_imgs, num_objects), dtype=int) #use this to keep track of color information\n",
        "num_colors = 3\n",
        "color_labels = np.linspace(.2,1,num_colors)\n",
        "\n",
        "shapes = np.zeros((num_imgs, num_objects), dtype=int)\n",
        "num_shapes = 2\n",
        "shape_labels = ['rectangle', 'circle', 'triangle']\n",
        "\n",
        "# radii = np.zeros((num_imgs, num_objects)) #use this to keep track of radius information for each circle\n",
        "# radii_labels = []\n",
        "# num_radii = rmax\n",
        "# for i in range(rmin, rmax+1):\n",
        "#     radii_labels.append('r = %d' %(i))\n",
        "\n",
        "for i_img in range(num_imgs):\n",
        "    # Draw circle\n",
        "    for i_object in range(num_objects):\n",
        "        shape = np.random.randint(num_shapes)\n",
        "        # shape = 2\n",
        "        shapes[i_img, i_object] = shape\n",
        "        if shape == 0:  # rectangle\n",
        "            w, h = np.random.randint(min_object_size, max_object_size, size=2) # represents the bottom right corner of rectangle \n",
        "            x = np.random.randint(0, img_size - w) #x coordinate for the top left corner of rectangle (for the box this will be the bottom left)\n",
        "            y = np.random.randint(0, img_size - h) #y coordinate for the top left corner of rectangle (for the box this will be the bottom left)\n",
        "            boxes[i_img, i_object] = [x, y, w+1, h+1] #add 1 since cv2 implements their pixel values starting from the bottom left corner of the pixel square, \n",
        "                                                      #so... the values added to the numpy array, imgs, will have a w and h value that are 1 pixel larger in the x and y coordinates\n",
        "                                                      #ex) if x,y = 1,1 and w,h = 2,3 then cv2.rectangle will have fill coordinates from (1,1)-the bottom left of the rectangle- up to (4,5)-the top right of the rectangle- since cv2 implemented its pixel at (3,3)            \n",
        "            color = int(np.random.randint(num_colors)) #provides a random index value for the color of the object and square boxes to be chosen from\n",
        "            colors[i_img, i_object] = color #keeps track of the color for this object in this image\n",
        "            #format for cv2.rectangle(image, start_point, end_point, color, thickness)  #start pt is top left and end pt is bottom right of rectangle\n",
        "            cv2.rectangle(imgs[i_img], (x,y), (x+w,y+h), color_labels[color]*np.array([1,1,1]), -1) #we subtract one at the end point since this is cv2 format and we are using a matplotlib format to display the image \n",
        "        elif shape == 1:  # circle   \n",
        "            r = int(0.5 * np.random.randint(min_object_size, max_object_size))\n",
        "            x = int(np.random.randint(r,img_size-r)) #x spawn location (img_size -r is there to prevent circle from going outside the image)\n",
        "            y = int(np.random.randint(r,img_size-r)) #y spawn location (img_size -r is there to prevent circle from going outside the image)\n",
        "            boxes[i_img, i_object] = [x - r, y - r, 2 * r+1, 2 * r+1] #add 1 since cv2 implements their pixel values starting from the bottom left corner of the pixel square, \n",
        "                                                                      #so... the values added to the numpy array, imgs, will have a w and h value that are 1 pixel larger in the x and y coordinates\n",
        "                                                                      #ex) if x,y = 1,1 and w,h = 2,3 then cv2.rectangle will have fill coordinates from (1,1)-the bottom left of the rectangle- up to (4,5)-the top right of the rectangle- since cv2 implemented its pixel at (3,3)            \n",
        "\n",
        "            color = int(np.random.randint(num_colors)) #provides a random index value for the color of the object and square boxes to be chosen from\n",
        "            colors[i_img, i_object] = color #keeps track of the color for this object in this image\n",
        "            cv2.circle(imgs[i_img], (x,y), r, color_labels[color]*np.array([1,1,1]), -1) #plots circle on the image\n",
        "        elif shape == 2:  # triangle\n",
        "            w, h = np.random.randint(min_object_size, max_object_size, size=2) #distance values from starting point\n",
        "            x = np.random.randint(0, img_size - w) #x coordinate for the top left corner of triangle \n",
        "            y = np.random.randint(0, img_size - h) #y coordinate for the \"top left\" corner of triangle\n",
        "            boxes[i_img, i_object] = [x, y, w+1, h+1] #add 1 since cv2 implements their pixel values starting from the bottom left corner of the pixel square, \n",
        "                                                      #so... the values added to the numpy array, imgs, will have a w and h value that are 1 pixel larger in the x and y coordinates\n",
        "                                                      #ex) if x,y = 1,1 and w,h = 2,3 then cv2.rectangle will have fill coordinates from (1,1)-the bottom left of the rectangle- up to (4,5)-the top right of the rectangle- since cv2 implemented its pixel at (3,3)            \n",
        "            pt1 = np.array([x, y]) #bottom left corner\n",
        "            pt2 = np.array([x+w, y]) #bottom right corner\n",
        "            pt3 = np.array([x, y+w]) #top left corner\n",
        "            pts = np.array([pt1, pt2, pt3])\n",
        "            pts = pts.reshape((-1, 1, 2))\n",
        "            color = int(np.random.randint(num_colors)) #provides a random index value for the color of the object and square boxes to be chosen from\n",
        "            colors[i_img, i_object] = color #keeps track of the color for this object in this image\n",
        "            cv2.fillPoly(imgs[i_img], [pts], color_labels[color]*np.array([1,1,1])) #cv2.fillPolly(image, corner_pts, color)\n",
        "\n",
        "\n",
        "\n",
        "\n",
        "imgs.shape, boxes.shape, shapes.shape, colors.shape"
      ],
      "execution_count": null,
      "outputs": [
        {
          "output_type": "execute_result",
          "data": {
            "text/plain": [
              "((5, 32, 32, 3), (5, 2, 4), (5, 2), (5, 2))"
            ]
          },
          "metadata": {},
          "execution_count": 39
        }
      ]
    },
    {
      "cell_type": "code",
      "metadata": {
        "ExecuteTime": {
          "end_time": "2016-07-05T22:57:56.856000",
          "start_time": "2016-07-05T22:57:56.254000"
        },
        "id": "AYKgxwrwxLpw",
        "colab": {
          "base_uri": "https://localhost:8080/",
          "height": 265
        },
        "outputId": "e0a3d295-2a74-4ff4-8a5a-1f9c0de813be"
      },
      "source": [
        "i = np.random.randint(num_imgs) #randomly selected image index number\n",
        "plt.imshow(imgs[i], interpolation='none', origin='lower', extent=[0, img_size, 0, img_size]) #plots image with boxes\n",
        "for box, shape, color in zip(boxes[i], shapes[i], colors[i]):\n",
        "    plt.gca().add_patch(matplotlib.patches.Rectangle((box[0], box[1] ), box[2], box[3], ec='r', fc='none')) #gives rectangular box around circle\n",
        "    plt.annotate(shape_labels[shape], (box[0], box[1] + box[3] + 0.7), color=color_labels[color]*np.array([1,1,1]), clip_on=False) #gives radius of circle above the square box in the same color as the circle it is refering to"
      ],
      "execution_count": null,
      "outputs": [
        {
          "output_type": "display_data",
          "data": {
            "image/png": "[encoded data removed]",
            "text/plain": [
              "<Figure size 432x288 with 1 Axes>"
            ]
          },
          "metadata": {
            "needs_background": "light"
          }
        }
      ]
    },
    {
      "cell_type": "code",
      "metadata": {
        "ExecuteTime": {
          "end_time": "2016-07-05T23:55:30.611000",
          "start_time": "2016-07-05T23:55:26.822000"
        },
        "id": "fsbCRD6zxLp5",
        "colab": {
          "base_uri": "https://localhost:8080/"
        },
        "outputId": "d26aa7c0-f615-4858-a611-b41d30ca1d1d"
      },
      "source": [
        "#Reshape and normalize the image data to mean 0 and std 1. \n",
        "#Differs from the original github format here because they used cairo and were plotting in rgb instead of grayscale\n",
        "\n",
        "X = (imgs - np.mean(imgs)) /np.std(imgs)\n",
        "print(X.shape, np.mean(X), np.std(X))\n",
        "print(np.mean(imgs), np.std(imgs))"
      ],
      "execution_count": null,
      "outputs": [
        {
          "output_type": "stream",
          "name": "stdout",
          "text": [
            "(5, 32, 32, 3) 1.850371707708594e-17 0.9999999999999999\n",
            "0.104296875 0.2588079149972705\n"
          ]
        }
      ]
    },
    {
      "cell_type": "code",
      "metadata": {
        "ExecuteTime": {
          "end_time": "2016-07-05T23:55:33.242000",
          "start_time": "2016-07-05T23:55:33.179000"
        },
        "id": "-ZvGbULExLp6",
        "colab": {
          "base_uri": "https://localhost:8080/"
        },
        "outputId": "276b3b8d-336f-41ec-fd56-8c2c250a5c5d"
      },
      "source": [
        "\n",
        "# Normalize x, y, w, h, shape, and colors by img_size, so that all values are between 0 and 1.\n",
        "\n",
        "colors_onehot = np.zeros((num_imgs, num_objects, num_colors))\n",
        "for i_img in range(num_imgs):\n",
        "    for i_object in range(num_objects):\n",
        "        colors_onehot[i_img, i_object, colors[i_img, i_object]] = 1 #normalizes the color label values \n",
        "\n",
        "shapes_onehot = np.zeros((num_imgs, num_objects, num_shapes))\n",
        "for i_img in range(num_imgs):\n",
        "    for i_object in range(num_objects):\n",
        "        shapes_onehot[i_img, i_object, int(shapes[i_img, i_object])] = 1 #normalizes shapes label values\n",
        "\n",
        "# Important: Do not shift to negative values (e.g. by setting to mean 0), because the IOU calculation needs positive w and h.\n",
        "y = np.concatenate([boxes / img_size, shapes_onehot, colors_onehot], axis=-1).reshape(num_imgs, -1) #normalize y and then store color and shapes values with the information at the end of the array\n",
        "y.shape, np.all(np.argmax(colors_onehot, axis=-1) == colors) #NOTE about where 261 comes from: Boxes is a 3x4 matrix, colors_onehot is a 3x81, and shapes_onehot is a 3x2 matrix so when these are concetenated (i.e. (4+81+32)*3) it becomes 261"
      ],
      "execution_count": null,
      "outputs": [
        {
          "output_type": "execute_result",
          "data": {
            "text/plain": [
              "((5, 18), True)"
            ]
          },
          "metadata": {},
          "execution_count": 42
        }
      ]
    },
    {
      "cell_type": "code",
      "metadata": {
        "colab": {
          "base_uri": "https://localhost:8080/"
        },
        "id": "J5opQvQmn1tS",
        "outputId": "287ad3e6-ff9a-44a6-f833-197523ea792c"
      },
      "source": [
        "# print(boxes.shape, colors_onehot.shape)\n",
        "# print(boxes)\n",
        "# print(colors_onehot)\n",
        "# # print(np.concatenate([boxes, colors_onehot], axis = -1))#.reshape(num_imgs,-1)\n",
        "# np.concatenate([boxes, colors_onehot], axis = -1).reshape(num_imgs,-1)\n",
        "# # print(colors_onehot.shape)\n",
        "# # print(colors_onehot)\n",
        "# # print(boxes/img_size)\n",
        "print(y.shape[-1])"
      ],
      "execution_count": null,
      "outputs": [
        {
          "output_type": "stream",
          "name": "stdout",
          "text": [
            "18\n"
          ]
        }
      ]
    },
    {
      "cell_type": "code",
      "metadata": {
        "ExecuteTime": {
          "end_time": "2016-07-05T23:55:33.989000",
          "start_time": "2016-07-05T23:55:33.981000"
        },
        "collapsed": true,
        "id": "GJEW_3PTxLp7"
      },
      "source": [
        "i = int(0.8 * num_imgs) #take 80% of images to input into the training model and then feed the other 20% of the images to test the neural network\n",
        "train_X = X[:i]\n",
        "test_X = X[i:]\n",
        "train_y = y[:i]\n",
        "test_y = y[i:]\n",
        "\n",
        "test_imgs = imgs[i:]\n",
        "test_boxes = boxes[i:]"
      ],
      "execution_count": null,
      "outputs": []
    },
    {
      "cell_type": "code",
      "metadata": {
        "ExecuteTime": {
          "end_time": "2016-07-06T00:27:51.515000",
          "start_time": "2016-07-06T00:27:50.598000"
        },
        "id": "4422NieexLp7"
      },
      "source": [
        "# TODO: Make one run with very deep network (~10 layers).\n",
        "filter_size = 3\n",
        "pool_size = 2\n",
        "\n",
        "# TODO: Maybe remove pooling bc it takes away the spatial information.\n",
        "\n",
        "model = Sequential([\n",
        "        Convolution2D(32, (6, 6), input_shape=X.shape[1:], data_format=\"channels_last\", activation='relu'), #give weights and bias to algorithm\n",
        "                                                                                                  #dim_ordering: 'th' or 'tf'. In 'th' mode, the channels dimension (the depth) is at index 1, in 'tf' mode is it at index 3. \n",
        "        MaxPooling2D(pool_size=(pool_size, pool_size)), #use Max Pooling to reduce the spatial dimensions (height and width) of the output volume by taking the maximum value over an input window (of size defined by pool_size) for each channel of the input\n",
        "        Convolution2D(64, (filter_size, filter_size), data_format=\"channels_last\", activation='relu'), \n",
        "        MaxPooling2D(pool_size=(pool_size, pool_size)), \n",
        "        Convolution2D(128, (filter_size, filter_size), data_format=\"channels_last\", activation='relu'), \n",
        "# #         MaxPooling2D(pool_size=(pool_size, pool_size)), \n",
        "        Convolution2D(128, (filter_size, filter_size), data_format=\"channels_last\", activation='relu'), \n",
        "# #         MaxPooling2D(pool_size=(pool_size, pool_size)), \n",
        "        Flatten(), \n",
        "        Dropout(0.4), #The Dropout layer randomly sets input units to 0 with a frequency of rate at each step during training time, which helps prevent overfitting. Inputs not set to 0 are scaled up by 1/(1 - rate) such that the sum over all inputs is unchanged.\n",
        "        Dense(256, input_dim=X.shape[-1], activation='relu'), #256 represents the number of functions the model uses where in each funciton there are a set of parameters that are used so when pixels are fed inside of each of them, one by one, the combination of all these function will determine the correct value\n",
        "#                                                             #relu takes input tensor and has the probability curve that trends in a linear direction towards any input value greater than zero (https://alexisalulema.com/2017/10/15/activation-functions-in-tensorflow/)\n",
        "        Dropout(0.4), \n",
        "        Dense(y.shape[-1]) #output shape\n",
        "    ])\n",
        "\n",
        "model.compile('adadelta', 'mse') #optimizer, adelta, is a standard stochastic gradient descent, but with an adaptive learning rate\n",
        "                                 # 'mse', Mean Squared Error, is the loss function for the network \n"
      ],
      "execution_count": null,
      "outputs": []
    },
    {
      "cell_type": "code",
      "metadata": {
        "colab": {
          "base_uri": "https://localhost:8080/"
        },
        "id": "YilsPUhKEYY-",
        "outputId": "753c4905-97cb-4a47-fa85-5a5944d59492"
      },
      "source": [
        "print(train_y)"
      ],
      "execution_count": null,
      "outputs": [
        {
          "output_type": "stream",
          "name": "stdout",
          "text": [
            "[[0.75    0.65625 0.25    0.21875 1.      0.      1.      0.      0.\n",
            "  0.28125 0.4375  0.40625 0.40625 0.      1.      0.      1.      0.     ]\n",
            " [0.4375  0.25    0.34375 0.34375 0.      1.      0.      0.      1.\n",
            "  0.53125 0.21875 0.28125 0.4375  1.      0.      0.      1.      0.     ]\n",
            " [0.21875 0.5625  0.28125 0.28125 0.      1.      0.      1.      0.\n",
            "  0.75    0.34375 0.21875 0.5     1.      0.      0.      0.      1.     ]\n",
            " [0.25    0.5     0.46875 0.46875 0.      1.      1.      0.      0.\n",
            "  0.46875 0.125   0.25    0.46875 1.      0.      0.      0.      1.     ]]\n"
          ]
        }
      ]
    },
    {
      "cell_type": "code",
      "metadata": {
        "id": "4gjyKyyuxLp9",
        "colab": {
          "base_uri": "https://localhost:8080/"
        },
        "outputId": "b83e7a69-2a3e-4531-a1b0-d59ece999913"
      },
      "source": [
        "# Flip boxes during training.\n",
        "# Note: The validation loss is always quite big here because we don't flip the bounding boxes for the validation data. \n",
        "def IOU(box1, box2):\n",
        "    '''Calculate overlap between two bounding boxes [x, y, w, h] as the area of intersection over the area of unity'''\n",
        "    x1, y1, w1, h1 = box1[0], box1[1], box1[2], box1[3]  \n",
        "    x2, y2, w2, h2 = box2[0], box2[1], box2[2], box2[3]\n",
        "\n",
        "    w_I = min(x1 + w1, x2 + w2) - max(x1, x2)\n",
        "    h_I = min(y1 + h1, y2 + h2) - max(y1, y2)\n",
        "    if w_I <= 0 or h_I <= 0:  # no overlap\n",
        "        return 0\n",
        "    I = w_I * h_I #intersection\n",
        "\n",
        "    U = w1 * h1 + w2 * h2 - I #union\n",
        "\n",
        "    return I / U\n",
        "\n",
        "def dist(box1, box2):\n",
        "    return np.sqrt(np.sum(np.square(box1[:2] - box2[:2])))\n",
        "\n",
        "num_epochs_flipping = 1\n",
        "num_epochs_no_flipping = 0  # has no significant effect\n",
        "\n",
        "flipped_train_y = np.array(train_y)\n",
        "flipped = np.zeros((len(train_y), num_epochs_flipping + num_epochs_no_flipping))\n",
        "ious_epoch = np.zeros((len(train_y), num_epochs_flipping + num_epochs_no_flipping))\n",
        "dists_epoch = np.zeros((len(train_y), num_epochs_flipping + num_epochs_no_flipping))\n",
        "mses_epoch = np.zeros((len(train_y), num_epochs_flipping + num_epochs_no_flipping))\n",
        "acc_shapes_epoch = np.zeros((len(train_y), num_epochs_flipping + num_epochs_no_flipping))\n",
        "acc_colors_epoch = np.zeros((len(train_y), num_epochs_flipping + num_epochs_no_flipping))\n",
        "# print(acc_shapes_epoch.shape)\n",
        "# print(acc_colors_epoch.shape)\n",
        "\n",
        "\n",
        "flipped_test_y = np.array(test_y)\n",
        "flipped_test = np.zeros((len(test_y), num_epochs_flipping + num_epochs_no_flipping))\n",
        "ious_test_epoch = np.zeros((len(test_y), num_epochs_flipping + num_epochs_no_flipping))\n",
        "dists_test_epoch = np.zeros((len(test_y), num_epochs_flipping + num_epochs_no_flipping))\n",
        "mses_test_epoch = np.zeros((len(test_y), num_epochs_flipping + num_epochs_no_flipping))\n",
        "acc_shapes_test_epoch = np.zeros((len(test_y), num_epochs_flipping + num_epochs_no_flipping))\n",
        "acc_colors_test_epoch = np.zeros((len(test_y), num_epochs_flipping + num_epochs_no_flipping))\n",
        "\n",
        "# Use GPU for this, otherwise the convnet will take forever to train\n",
        "\n",
        "\n",
        "\n",
        "\n",
        "# TODO: Calculate ious directly for all samples (using slices of the array pred_y for x, y, w, h).\n",
        "for epoch in range(num_epochs_flipping):\n",
        "    print ('Epoch', epoch) #indicate the current epoch that we're on in the for loop\n",
        "    model.fit(train_X, flipped_train_y, epochs=1, validation_data=(test_X, test_y), verbose=2) #training the model with 80% of images\n",
        "    pred_y = model.predict(train_X) #training the model with 80% of images\n",
        "    print(pred_y)\n",
        "\n",
        "    for sample, (pred, exp) in enumerate(zip(pred_y, flipped_train_y)): \n",
        "        print('sample', sample)\n",
        "        # print(pred)\n",
        "        pred = pred.reshape(num_objects, -1) #predicted values for training\n",
        "        print(pred)\n",
        "        exp = exp.reshape(num_objects, -1) #expected values fot training\n",
        "        \n",
        "        pred_boxes = pred[:, :4] #4 is for the four corners of the box\n",
        "        exp_boxes = exp[:, :4]\n",
        "        \n",
        "        ious = np.zeros((num_objects, num_objects)) #training IOU array\n",
        "        dists = np.zeros((num_objects, num_objects)) #training distance apart array\n",
        "        mses = np.zeros((num_objects, num_objects)) #Training Mean Squared Error array\n",
        "        for i, exp_box in enumerate(exp_boxes):\n",
        "            for j, pred_box in enumerate(pred_boxes):\n",
        "                ious[i, j] = IOU(exp_box, pred_box) #appends IOU calulation for each object in each image\n",
        "                dists[i, j] = dist(exp_box, pred_box) #appends distance calulation for each object in each image\n",
        "                mses[i, j] = np.mean(np.square(exp_box - pred_box)) #appends mean squared error calulation for each object in each image\n",
        "                \n",
        "        new_order = np.zeros(num_objects, dtype=int)\n",
        "        \n",
        "        for i in range(num_objects):\n",
        "            # Find pred and exp box with maximum iou and assign them to each other (i.e. switch the positions of the exp boxes in y).\n",
        "            ind_exp_box, ind_pred_box = np.unravel_index(ious.argmax(), ious.shape) #detect the index for the max IOU between the pred and exp box\n",
        "            ious_epoch[sample, epoch] += ious[ind_exp_box, ind_pred_box] #assign the IOU values for both boxes to eachother for the appropriate epoch\n",
        "            dists_epoch[sample, epoch] += dists[ind_exp_box, ind_pred_box]#assign the distance values for both boxes to eachother for the appropriate epoch\n",
        "            mses_epoch[sample, epoch] += mses[ind_exp_box, ind_pred_box] #assign the mean squared error values for both boxes to eachother for the appropriate epoch\n",
        "            ious[ind_exp_box] = -1  # set iou of assigned boxes to -1, so they don't get assigned again\n",
        "            ious[:, ind_pred_box] = -1\n",
        "            new_order[ind_pred_box] = ind_exp_box #assign index values of the max iou expected box to track if we need to flip the image based on MSE values that we'll compare later on\n",
        "        \n",
        "        flipped_train_y[sample] = exp[new_order].flatten() #match these indeces with the y sample\n",
        "        \n",
        "        flipped[sample, epoch] = 1. - np.mean(new_order == np.arange(num_objects, dtype=int)) #check to see if images meet criteria to be flipped (mse_A > mse_B)\n",
        "        ious_epoch[sample, epoch] /= num_objects #finds the mean iou for a given epoch\n",
        "        dists_epoch[sample, epoch] /= num_objects #finds the mean distance for a given epoch\n",
        "        mses_epoch[sample, epoch] /= num_objects #finds the mean mean square value for a given epoch\n",
        "        \n",
        "        acc_shapes_epoch[sample, epoch] = np.mean(np.argmax(pred[:, 4:4+num_shapes], axis=-1) == np.argmax(exp[:, 4:4+num_shapes], axis=-1)) #finds the accuracy that the neural network has at predicting shapes of the objects\n",
        "        acc_colors_epoch[sample, epoch] = np.mean(np.argmax(pred[:, 4+num_shapes:4+num_shapes+num_colors], axis=-1) == np.argmax(exp[:, 4+num_shapes:4+num_shapes+num_colors], axis=-1))\n",
        "\n",
        "    \n",
        "    # Calculate metrics on test data. \n",
        "    pred_test_y = model.predict(test_X)\n",
        "    for sample, (pred, exp) in enumerate(zip(pred_test_y, flipped_test_y)):\n",
        "        \n",
        "        # TODO: Make this simpler.\n",
        "        pred = pred.reshape(num_objects, -1) \n",
        "        exp = exp.reshape(num_objects, -1) \n",
        "        \n",
        "        pred_boxes = pred[:, :4]\n",
        "        exp_boxes = exp[:, :4]\n",
        "        \n",
        "        ious = np.zeros((num_objects, num_objects)) #IOU array\n",
        "        dists = np.zeros((num_objects, num_objects)) #distance apart array\n",
        "        mses = np.zeros((num_objects, num_objects)) #Mean Squared Error array\n",
        "        for i, exp_box in enumerate(exp_boxes):\n",
        "            for j, pred_box in enumerate(pred_boxes):\n",
        "                ious[i, j] = IOU(exp_box, pred_box)\n",
        "                dists[i, j] = dist(exp_box, pred_box)\n",
        "                mses[i, j] = np.mean(np.square(exp_box - pred_box))\n",
        "                \n",
        "        new_order = np.zeros(num_objects, dtype=int)\n",
        "        \n",
        "        for i in range(num_objects):\n",
        "            # Find pred and exp box with maximum iou and assign them to each other (i.e. switch the positions of the exp boxes in y).\n",
        "            ind_exp_box, ind_pred_box = np.unravel_index(mses.argmin(), mses.shape)\n",
        "            ious_test_epoch[sample, epoch] += ious[ind_exp_box, ind_pred_box]\n",
        "            dists_test_epoch[sample, epoch] += dists[ind_exp_box, ind_pred_box]\n",
        "            mses_test_epoch[sample, epoch] += mses[ind_exp_box, ind_pred_box]\n",
        "            mses[ind_exp_box] = 1000000#-1  # set iou of assigned boxes to -1, so they don't get assigned again\n",
        "            mses[:, ind_pred_box] = 10000000#-1\n",
        "            new_order[ind_pred_box] = ind_exp_box\n",
        "        \n",
        "        flipped_test_y[sample] = exp[new_order].flatten()\n",
        "        \n",
        "        flipped_test[sample, epoch] = 1. - np.mean(new_order == np.arange(num_objects, dtype=int))#np.array_equal(new_order, np.arange(num_objects, dtype=int))  # TODO: Change this to reflect the number of flips.\n",
        "        ious_test_epoch[sample, epoch] /= num_objects\n",
        "        dists_test_epoch[sample, epoch] /= num_objects\n",
        "        mses_test_epoch[sample, epoch] /= num_objects\n",
        "        \n",
        "        acc_shapes_test_epoch[sample, epoch] = np.mean(np.argmax(pred[:, 4:4+num_shapes], axis=-1) == np.argmax(exp[:, 4:4+num_shapes], axis=-1))\n",
        "        acc_colors_test_epoch[sample, epoch] = np.mean(np.argmax(pred[:, 4+num_shapes:4+num_shapes+num_colors], axis=-1) == np.argmax(exp[:, 4+num_shapes:4+num_shapes+num_colors], axis=-1))\n",
        "       \n",
        "            \n",
        "    print ('Flipped {} % of all elements'.format(np.mean(flipped[:, epoch]) * 100.))\n",
        "    print ('Mean IOU: {}'.format(np.mean(ious_epoch[:, epoch])))\n",
        "    print ('Mean dist: {}'.format(np.mean(dists_epoch[:, epoch])))\n",
        "    print ('Mean mse: {}'.format(np.mean(mses_epoch[:, epoch])))\n",
        "    print ('Accuracy shapes: {}'.format(np.mean(acc_shapes_epoch[:, epoch])))\n",
        "    print ('Accuracy colors: {}'.format(np.mean(acc_colors_epoch[:, epoch])))\n",
        "    \n",
        "    print ('--------------- TEST ----------------')\n",
        "    print ('Flipped {} % of all elements'.format(np.mean(flipped_test[:, epoch]) * 100.))\n",
        "    print ('Mean IOU: {}'.format(np.mean(ious_test_epoch[:, epoch])))\n",
        "    print ('Mean dist: {}'.format(np.mean(dists_test_epoch[:, epoch])))\n",
        "    print ('Mean mse: {}'.format(np.mean(mses_test_epoch[:, epoch])))\n",
        "    print ('Accuracy shapes: {}'.format(np.mean(acc_shapes_test_epoch[:, epoch])))\n",
        "    print ('Accuracy colors: {}'.format(np.mean(acc_colors_test_epoch[:, epoch])))\n",
        "    print()\n",
        "    \n",
        "# print '------------------------------------'\n",
        "# print 'Training now without flipping boxes'\n",
        "# print '------------------------------------'\n",
        "\n",
        "# print(num_epochs_flipping, num_epochs_flipping + num_epochs_no_flipping)\n",
        "# for epoch in range(num_epochs_flipping):#, num_epochs_flipping + num_epochs_no_flipping):\n",
        "    \n",
        "#     print 'Epoch', epoch\n",
        "#     model.fit(train_X, flipped_train_y, nb_epoch=1, validation_data=(test_X, test_y), verbose=2)\n",
        "#     pred_y = model.predict(train_X)\n",
        "\n",
        "#     # Calculate iou/dist, but don't flip.\n",
        "#     for sample, (pred_boxes, exp_boxes) in enumerate(zip(pred_y, flipped_train_y)):\n",
        "        \n",
        "#         pred_boxes = pred_boxes.reshape(num_objects, -1)\n",
        "#         exp_boxes = exp_boxes.reshape(num_objects, -1)        \n",
        "#         for exp_box, pred_box in zip(exp_boxes, pred_boxes):\n",
        "#             ious_epoch[sample, epoch] += IOU(exp_box, pred_box)\n",
        "#             dists_epoch[sample, epoch] += dist(exp_box, pred_box)\n",
        "#             mses_epoch[sample, epoch] += np.mean(np.square(exp_box - pred_box))\n",
        "            \n",
        "#         ious_epoch[sample, epoch] /= num_objects\n",
        "#         dists_epoch[sample, epoch] /= num_objects \n",
        "#         mses_epoch[sample, epoch] /= num_objects \n",
        "            \n",
        "# #     print 'Flipped {} % of all elements'.format(np.mean(flipped[:, epoch]) * 100.)\n",
        "#     print 'Mean IOU: {}'.format(np.mean(ious_epoch[:, epoch]))\n",
        "#     print 'Mean dist: {}'.format(np.mean(dists_epoch[:, epoch]))\n",
        "#     print 'Mean mse: {}'.format(np.mean(mses_epoch[:, epoch]))\n",
        "#     print\n",
        "    "
      ],
      "execution_count": null,
      "outputs": [
        {
          "output_type": "stream",
          "name": "stdout",
          "text": [
            "Epoch 0\n",
            "1/1 - 0s - loss: 0.3185 - val_loss: 0.3319\n",
            "[[-6.36307523e-02 -1.29489735e-01  8.04383904e-02 -4.40443261e-03\n",
            "   3.21062689e-04  2.88671076e-01  1.88942645e-02  7.23875314e-02\n",
            "   1.21309899e-01  1.60716385e-01  3.75780016e-02 -7.25969896e-02\n",
            "   1.39325991e-01 -6.88615441e-02 -9.26462114e-02 -8.33887309e-02\n",
            "   1.22939358e-02  4.09798287e-02]\n",
            " [-1.84804261e-01 -3.09926927e-01  7.46814013e-02  4.94650155e-02\n",
            "   1.88196301e-02  2.38773003e-01 -9.46306903e-03  1.72704428e-01\n",
            "   1.10383995e-01  3.19309831e-01  9.63361636e-02 -3.67749743e-02\n",
            "   3.29353124e-01 -5.02985567e-02 -2.42559589e-03 -1.29818931e-01\n",
            "  -9.86266211e-02  1.05872564e-01]\n",
            " [-5.12438752e-02 -8.53957534e-02 -6.08528741e-02  5.81030175e-02\n",
            "  -3.36670838e-02  1.39213502e-01  8.66258591e-02  7.41350651e-02\n",
            "   6.78449348e-02  7.54778534e-02  4.58170883e-02 -1.43668145e-01\n",
            "   7.81950206e-02 -4.43395190e-02 -1.14845112e-01 -6.99024349e-02\n",
            "   6.30325964e-03  1.71265565e-02]\n",
            " [-2.75444090e-01 -4.09096897e-01  1.23183236e-01  6.76289275e-02\n",
            "   5.58221042e-02  2.88360894e-01  2.60620955e-02  1.13951504e-01\n",
            "   1.70325294e-01  3.17923188e-01  1.59479916e-01 -7.64959529e-02\n",
            "   3.40616971e-01 -1.01817876e-01  6.61922693e-02 -1.47092521e-01\n",
            "  -1.71688154e-01  1.58258051e-01]]\n",
            "sample 0\n",
            "[[-0.06363075 -0.12948973  0.08043839 -0.00440443  0.00032106  0.28867108\n",
            "   0.01889426  0.07238753  0.1213099 ]\n",
            " [ 0.16071638  0.037578   -0.07259699  0.13932599 -0.06886154 -0.09264621\n",
            "  -0.08338873  0.01229394  0.04097983]]\n",
            "sample 1\n",
            "[[-0.18480426 -0.30992693  0.0746814   0.04946502  0.01881963  0.238773\n",
            "  -0.00946307  0.17270443  0.11038399]\n",
            " [ 0.31930983  0.09633616 -0.03677497  0.32935312 -0.05029856 -0.0024256\n",
            "  -0.12981893 -0.09862662  0.10587256]]\n",
            "sample 2\n",
            "[[-0.05124388 -0.08539575 -0.06085287  0.05810302 -0.03366708  0.1392135\n",
            "   0.08662586  0.07413507  0.06784493]\n",
            " [ 0.07547785  0.04581709 -0.14366814  0.07819502 -0.04433952 -0.11484511\n",
            "  -0.06990243  0.00630326  0.01712656]]\n",
            "sample 3\n",
            "[[-0.2754441  -0.4090969   0.12318324  0.06762893  0.0558221   0.2883609\n",
            "   0.0260621   0.1139515   0.1703253 ]\n",
            " [ 0.3179232   0.15947992 -0.07649595  0.34061697 -0.10181788  0.06619227\n",
            "  -0.14709252 -0.17168815  0.15825805]]\n",
            "Flipped 0.0 % of all elements\n",
            "Mean IOU: 0.0\n",
            "Mean dist: 0.6593375412623297\n",
            "Mean mse: 0.1846182816983\n",
            "Accuracy shapes: 0.5\n",
            "Accuracy colors: 0.25\n",
            "--------------- TEST ----------------\n",
            "Flipped 100.0 % of all elements\n",
            "Mean IOU: 0.0\n",
            "Mean dist: 0.7929679372607702\n",
            "Mean mse: 0.2722874268243326\n",
            "Accuracy shapes: 0.0\n",
            "Accuracy colors: 0.5\n",
            "\n"
          ]
        }
      ]
    },
    {
      "cell_type": "code",
      "metadata": {
        "ExecuteTime": {
          "end_time": "2016-07-06T00:26:47.814000",
          "start_time": "2016-07-06T00:26:43.399000"
        },
        "id": "-cD704dYxLqD"
      },
      "source": [
        "# # model.layers\n",
        "# weights = model.layers[0].get_weights()[0]\n",
        "# # print(weights)\n",
        "# # print(weights.shape)\n",
        "# weights = weights.transpose(3, 0, 1, 2)\n",
        "# print weights.shape\n",
        "# # plt.imshow(weights[0] * 255. + 128., interpolation='none', origin='lower')\n",
        "# print np.mean(weights[0]), np.std(weights[0]), np.min(weights[0]), np.max(weights[0])\n",
        "# adj_weights = (weights * 255.) + 128.\n",
        "# print np.mean(adj_weights[0]), np.std(adj_weights[0]), np.min(adj_weights[0]), np.max(adj_weights[0])\n",
        "# plt.figure(figsize=(16, 8))\n",
        "# for i in range(24):\n",
        "#     plt.subplot(4, 6, i+1)\n",
        "#     plt.imshow(adj_weights[i, :, :], interpolation='none', origin='lower', cmap='Greys')\n"
      ],
      "execution_count": null,
      "outputs": []
    },
    {
      "cell_type": "code",
      "metadata": {
        "ExecuteTime": {
          "end_time": "2016-07-05T23:54:37.858000",
          "start_time": "2016-07-05T23:54:35.466000"
        },
        "id": "j7H6T23ExLqH",
        "colab": {
          "base_uri": "https://localhost:8080/",
          "height": 301
        },
        "outputId": "d7ab6f34-ee02-44de-d3bd-ba502f89bc95"
      },
      "source": [
        "plt.pcolor(flipped[:1000], cmap='Greys', vmax=1.)\n",
        "# plt.axvline(num_epochs_flipping, c='r')\n",
        "plt.xlabel('Epoch')\n",
        "plt.ylabel('Training sample')"
      ],
      "execution_count": null,
      "outputs": [
        {
          "output_type": "execute_result",
          "data": {
            "text/plain": [
              "Text(0, 0.5, 'Training sample')"
            ]
          },
          "metadata": {},
          "execution_count": 11
        },
        {
          "output_type": "display_data",
          "data": {
            "image/png": "[encoded data removed]",
            "text/plain": [
              "<Figure size 432x288 with 1 Axes>"
            ]
          },
          "metadata": {
            "needs_background": "light"
          }
        }
      ]
    },
    {
      "cell_type": "code",
      "metadata": {
        "ExecuteTime": {
          "end_time": "2016-07-05T23:54:38.252000",
          "start_time": "2016-07-05T23:54:37.860000"
        },
        "id": "HhmmAuH7xLqI",
        "colab": {
          "base_uri": "https://localhost:8080/",
          "height": 415
        },
        "outputId": "56011500-c4b4-46dd-936f-4151d2dcab20"
      },
      "source": [
        "mean_ious_epoch = np.mean(ious_epoch, axis=0)\n",
        "mean_dists_epoch = np.mean(dists_epoch, axis=0)\n",
        "mean_mses_epoch = np.mean(mses_epoch, axis=0)\n",
        "plt.plot(mean_ious_epoch, color='b', label='Mean IOU')  # between predicted and assigned true boxes\n",
        "plt.plot(mean_dists_epoch, color ='g', label='Mean distance')  # relative to image size\n",
        "plt.plot(mean_mses_epoch, color = 'r', label='Mean mse')  # relative to image size\n",
        "plt.annotate(np.round(np.max(mean_ious_epoch), 3), (len(mean_ious_epoch)-1, mean_ious_epoch[-1]+0.03), horizontalalignment='right', color='b')\n",
        "plt.annotate(np.round(np.min(mean_dists_epoch), 3), (len(mean_dists_epoch)-1, mean_dists_epoch[-1]+0.03), horizontalalignment='right', color='g')\n",
        "plt.annotate(np.round(np.min(mean_mses_epoch), 3), (len(mean_mses_epoch)-1, mean_mses_epoch[-1]+0.03), horizontalalignment='right', color='r')\n",
        "\n",
        "# TEST.\n",
        "# mean_ious_epoch = np.mean(ious_test_epoch, axis=0)\n",
        "# mean_dists_epoch = np.mean(dists_test_epoch, axis=0)\n",
        "# mean_mses_epoch = np.mean(mses_test_epoch, axis=0)\n",
        "# plt.plot(mean_ious_epoch, 'b--')  # between predicted and assigned true boxes\n",
        "# plt.plot(mean_dists_epoch, 'g--')  # relative to image size\n",
        "# plt.plot(mean_mses_epoch, 'r--')  # relative to image size\n",
        "# plt.annotate(np.round(np.max(mean_ious_epoch), 3), (len(mean_ious_epoch)-1, mean_ious_epoch[-1]+0.03), horizontalalignment='right', color='b')\n",
        "# plt.annotate(np.round(np.min(mean_dists_epoch), 3), (len(mean_dists_epoch)-1, mean_dists_epoch[-1]+0.03), horizontalalignment='right', color='g')\n",
        "# plt.annotate(np.round(np.min(mean_mses_epoch), 3), (len(mean_mses_epoch)-1, mean_mses_epoch[-1]+0.03), horizontalalignment='right', color='r')\n",
        "\n",
        "# plt.axvline(num_epochs_flipping, c='r')\n",
        "plt.xlabel('Epoch')\n",
        "plt.legend(loc='upper left')\n",
        "plt.ylim(0, 0.4)\n",
        "\n",
        "# plt.savefig('plots/color-multiple-shapes_three-colors_boxes.png', dpi=300)"
      ],
      "execution_count": null,
      "outputs": [
        {
          "output_type": "execute_result",
          "data": {
            "text/plain": [
              "(0.0, 0.4)"
            ]
          },
          "metadata": {},
          "execution_count": 12
        },
        {
          "output_type": "display_data",
          "data": {
            "image/png": "[encoded data removed]",
            "text/plain": [
              "<Figure size 432x288 with 1 Axes>"
            ]
          },
          "metadata": {
            "needs_background": "light"
          }
        }
      ]
    },
    {
      "cell_type": "code",
      "metadata": {
        "ExecuteTime": {
          "end_time": "2016-07-05T23:54:40.181000",
          "start_time": "2016-07-05T23:54:38.255000"
        },
        "id": "hHtSsUUFxLqI",
        "colab": {
          "base_uri": "https://localhost:8080/",
          "height": 419
        },
        "outputId": "35ca9767-41c3-4c58-a4e5-d5824d2a945d"
      },
      "source": [
        "mean_acc_shapes_epoch = np.mean(acc_shapes_epoch, axis=0)\n",
        "mean_acc_colors_epoch = np.mean(acc_colors_epoch, axis=0)\n",
        "plt.plot(mean_acc_shapes_epoch, label='Accuracy shapes')  # between predicted and assigned true boxes\n",
        "plt.plot(mean_acc_colors_epoch, label='Accuracy colors')\n",
        "plt.annotate(np.round(np.max(mean_acc_shapes_epoch), 3), (len(mean_acc_shapes_epoch)-1, mean_acc_shapes_epoch[-1]+0.03), horizontalalignment='right', color='b')\n",
        "plt.annotate(np.round(np.max(mean_acc_colors_epoch), 3), (len(mean_acc_colors_epoch)-1, mean_acc_colors_epoch[-1]+0.03), horizontalalignment='right', color='g')\n",
        "\n",
        "# TEST.\n",
        "mean_acc_shapes_epoch = np.mean(acc_shapes_test_epoch, axis=0)\n",
        "mean_acc_colors_epoch = np.mean(acc_colors_test_epoch, axis=0)\n",
        "plt.plot(mean_acc_shapes_epoch, 'b--')  # between predicted and assigned true boxes\n",
        "plt.plot(mean_acc_colors_epoch, 'g--')\n",
        "# plt.annotate(np.round(np.max(mean_acc_shapes_epoch), 3), (len(mean_acc_shapes_epoch)-1, mean_acc_shapes_epoch[-1]+0.03), horizontalalignment='right', color='b')\n",
        "# plt.annotate(np.round(np.max(mean_acc_colors_epoch), 3), (len(mean_acc_colors_epoch)-1, mean_acc_colors_epoch[-1]+0.03), horizontalalignment='right', color='g')\n",
        "\n",
        "# plt.axvline(num_epochs_flipping, c='r')\n",
        "plt.xlabel('Epoch')\n",
        "plt.legend(loc='lower right')\n",
        "plt.ylim(0.6, 1)\n",
        "\n",
        "# plt.savefig('plots/color-multiple-shapes_three-colors_classification.png', dpi=300)"
      ],
      "execution_count": null,
      "outputs": [
        {
          "output_type": "execute_result",
          "data": {
            "text/plain": [
              "(0.6, 1.0)"
            ]
          },
          "metadata": {},
          "execution_count": 37
        },
        {
          "output_type": "display_data",
          "data": {
            "image/png": "[encoded data removed]",
            "text/plain": [
              "<Figure size 432x288 with 1 Axes>"
            ]
          },
          "metadata": {
            "needs_background": "light"
          }
        }
      ]
    },
    {
      "cell_type": "code",
      "metadata": {
        "colab": {
          "base_uri": "https://localhost:8080/"
        },
        "id": "OJybsDbWJy38",
        "outputId": "543f6e1e-3ea6-4018-f6b0-5aa1fb076b9f"
      },
      "source": [
        "print(y.shape)"
      ],
      "execution_count": null,
      "outputs": [
        {
          "output_type": "stream",
          "name": "stdout",
          "text": [
            "(50, 18)\n"
          ]
        }
      ]
    },
    {
      "cell_type": "code",
      "metadata": {
        "ExecuteTime": {
          "end_time": "2016-07-05T23:54:55.731000",
          "start_time": "2016-07-05T23:54:54.739000"
        },
        "id": "pEjWv5UJxLqJ",
        "colab": {
          "base_uri": "https://localhost:8080/"
        },
        "outputId": "99c715ea-4685-4961-b3c7-0fdc4232b776"
      },
      "source": [
        "pred_y = model.predict(test_X)\n",
        "# print(pred_y)\n",
        "pred_y = pred_y.reshape(len(pred_y), num_objects, -1)\n",
        "print(pred_y)\n",
        "pred_boxes = pred_y[..., :4] * img_size\n",
        "# print(pred_boxes)\n",
        "pred_shapes = np.argmax(pred_y[..., 4:4+num_shapes], axis=-1).astype(int)  # take max from probabilities\n",
        "# print pred_y[..., 4+num_shapes:4+num_shapes+num_colors].shape\n",
        "# print np.argmax(pred_y[..., 5:8], axis=-1).shape\n",
        "pred_colors = np.argmax(pred_y[..., 4+num_shapes:4+num_shapes+num_colors], axis=-1).astype(int)\n",
        "# print(pred_boxes)\n",
        "pred_boxes.shape, pred_shapes.shape, pred_colors.shape"
      ],
      "execution_count": null,
      "outputs": [
        {
          "output_type": "stream",
          "name": "stdout",
          "text": [
            "[[[-0.05734678  0.0275609   0.05719124 -0.04871532  0.20416635\n",
            "    0.21063256 -0.11652391 -0.12179523  0.02987875]\n",
            "  [-0.03732499 -0.04448166  0.1029304  -0.17557679 -0.07453119\n",
            "    0.06952292  0.10110009  0.15999985  0.04937116]]\n",
            "\n",
            " [[-0.03503998  0.00280487 -0.0206176  -0.00910054  0.0465022\n",
            "    0.05188828 -0.01837972 -0.0381476   0.03553566]\n",
            "  [-0.04552377 -0.02567954  0.02348642 -0.03321886  0.00753963\n",
            "    0.01242277  0.05335033  0.03787694  0.00994889]]\n",
            "\n",
            " [[-0.08771309  0.14958794 -0.05883307 -0.20244248  0.12158871\n",
            "    0.26803416 -0.04683262 -0.079637    0.06577316]\n",
            "  [-0.09551579 -0.24682078  0.07021804  0.04243976  0.04337204\n",
            "    0.0655109   0.05332993 -0.03078658  0.03101327]]\n",
            "\n",
            " [[-0.0314126   0.03049242 -0.00492054 -0.02954068  0.04277818\n",
            "    0.05035763 -0.04468855 -0.05867153  0.01726775]\n",
            "  [-0.03517365 -0.03554977  0.02961728 -0.04340888 -0.00961749\n",
            "    0.00567418  0.02776288  0.03996228  0.00335601]]\n",
            "\n",
            " [[-0.02487389  0.02217878 -0.02260186 -0.00137195  0.01027705\n",
            "    0.06750259 -0.0164062  -0.04924335  0.04816808]\n",
            "  [-0.02291784 -0.02293376  0.02928876 -0.05192872  0.00394483\n",
            "    0.02293142  0.07852919  0.04424021  0.00062863]]\n",
            "\n",
            " [[-0.03174144 -0.06970429  0.0657208  -0.02547111  0.16410519\n",
            "    0.24872568 -0.06284346 -0.15719612  0.07793709]\n",
            "  [-0.02083553 -0.03001871  0.13633633 -0.08997759 -0.09730533\n",
            "    0.06759386  0.03423838  0.17305017  0.07915385]]\n",
            "\n",
            " [[-0.037353    0.02001292 -0.00845036 -0.03673343  0.06314053\n",
            "    0.05742823 -0.03478679 -0.06227225  0.0219997 ]\n",
            "  [-0.03997312 -0.03265515  0.03636721 -0.05416957  0.00422257\n",
            "   -0.01085921  0.06385503  0.0332101   0.00389352]]\n",
            "\n",
            " [[-0.02176173  0.01552464 -0.02481145  0.00956433  0.01316062\n",
            "    0.04927872 -0.0220342  -0.04877947  0.04355221]\n",
            "  [-0.04478999 -0.03138142  0.01810306 -0.05099665 -0.00096769\n",
            "    0.0130006   0.06721425  0.04351307 -0.0048793 ]]\n",
            "\n",
            " [[-0.15801576 -0.03746131 -0.01803204  0.00121086  0.23421973\n",
            "    0.3305621  -0.14243965 -0.22429936  0.15674174]\n",
            "  [-0.16023786 -0.02050949  0.14856455 -0.18755245 -0.09441909\n",
            "    0.06421519  0.05554774  0.24807057  0.09480864]]\n",
            "\n",
            " [[-0.0249666   0.01689373 -0.01884131 -0.00206171  0.02113579\n",
            "    0.04974004 -0.01826403 -0.03662838  0.04596984]\n",
            "  [-0.04348239 -0.01777808  0.02848217 -0.04562408  0.00705927\n",
            "    0.01057998  0.06228294  0.03070503 -0.00772781]]]\n"
          ]
        },
        {
          "output_type": "execute_result",
          "data": {
            "text/plain": [
              "((10, 2, 4), (10, 2), (10, 2))"
            ]
          },
          "metadata": {},
          "execution_count": 39
        }
      ]
    },
    {
      "cell_type": "code",
      "metadata": {
        "id": "ISFYw2D9FhQm"
      },
      "source": [
        ""
      ],
      "execution_count": null,
      "outputs": []
    },
    {
      "cell_type": "code",
      "metadata": {
        "ExecuteTime": {
          "end_time": "2016-07-05T23:54:57.198000",
          "start_time": "2016-07-05T23:54:55.733000"
        },
        "id": "wgPmFHtfxLqL",
        "colab": {
          "base_uri": "https://localhost:8080/",
          "height": 503
        },
        "outputId": "3b1a3a9b-bbe0-436f-dc91-6f8a27cb8699"
      },
      "source": [
        "plt.figure(figsize=(16, 8))\n",
        "for i_subplot in range(1, 9):\n",
        "    plt.subplot(2, 4, i_subplot)\n",
        "    i = np.random.randint(len(test_X))\n",
        "    plt.imshow(test_imgs[i], interpolation='none', origin='lower', extent=[0, img_size, 0, img_size])\n",
        "    for box, shape, color in zip(pred_boxes[i], pred_shapes[i], pred_colors[i]):\n",
        "        plt.gca().add_patch(matplotlib.patches.Rectangle((box[0], box[1]), box[2], box[3], ec='r', fc='none'))\n",
        "        plt.annotate(shape_labels[shape], (box[0], box[1] + box[3] + 0.7), color=color_labels[color]*np.array([1,1,1]), clip_on=False, bbox={'fc': 'w', 'ec': 'none', 'pad': 1, 'alpha': .7})"
      ],
      "execution_count": null,
      "outputs": [
        {
          "output_type": "display_data",
          "data": {
            "image/png": "[encoded data removed]",
            "text/plain": [
              "<Figure size 1152x576 with 8 Axes>"
            ]
          },
          "metadata": {
            "needs_background": "light"
          }
        }
      ]
    },
    {
      "cell_type": "code",
      "metadata": {
        "ExecuteTime": {
          "end_time": "2016-07-05T18:09:07.838000",
          "start_time": "2016-07-05T18:09:07.831000"
        },
        "id": "8BjSp1GvxLqM",
        "colab": {
          "base_uri": "https://localhost:8080/"
        },
        "outputId": "08a799e1-f8c0-4b00-842e-2c3f70f070d1"
      },
      "source": [
        "np.mean(pred_boxes[:, :, 2]), np.std(pred_boxes[:, :, 2])"
      ],
      "execution_count": null,
      "outputs": [
        {
          "output_type": "execute_result",
          "data": {
            "text/plain": [
              "(-0.47812462, 0.11619733)"
            ]
          },
          "metadata": {},
          "execution_count": 23
        }
      ]
    },
    {
      "cell_type": "code",
      "metadata": {
        "collapsed": true,
        "id": "_rD3uxzXxLqM"
      },
      "source": [
        ""
      ],
      "execution_count": null,
      "outputs": []
    }
  ]
}